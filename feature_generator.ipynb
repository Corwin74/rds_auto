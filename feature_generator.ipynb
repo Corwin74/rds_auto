{
 "cells": [
  {
   "cell_type": "code",
   "execution_count": 1,
   "metadata": {},
   "outputs": [],
   "source": [
    "import pandas as pd\n",
    "import numpy as np\n",
    "import sys\n",
    "from sklearn.model_selection import train_test_split\n",
    "from sklearn.model_selection import KFold\n",
    "from tqdm.notebook import tqdm\n",
    "from catboost import CatBoostRegressor, CatBoostClassifier\n",
    "import re\n",
    "from sklearn.metrics import classification_report"
   ]
  },
  {
   "cell_type": "code",
   "execution_count": 2,
   "metadata": {},
   "outputs": [],
   "source": [
    "VAL_SIZE   = 0.25   # 25%\n",
    "N_FOLDS    = 5\n",
    "RANDOM_SEED = 42\n",
    "\n",
    "# CATBOOST\n",
    "ITERATIONS = 2000\n",
    "LR         = 0.05"
   ]
  },
  {
   "cell_type": "code",
   "execution_count": 3,
   "metadata": {},
   "outputs": [],
   "source": [
    "def preproc_test(df):\n",
    "    df = df.drop('brand', axis=1)\n",
    "    df['name'] = df['name'].apply(lambda x: x.split(' ')[0])\n",
    "    df.drop(['vehicleConfiguration', 'description', 'Комплектация',\n",
    "              'Руль','Состояние', 'Таможня', 'Владение', 'id', \n",
    "             'color', 'mileage', 'ПТС', 'Владельцы'], axis=1, inplace=True)\n",
    "    df['engineDisplacement'] = df.engineDisplacement.apply(lambda x: x.split(' ')[0])\n",
    "    df['modelDate'] = df.modelDate.apply(lambda x: int(x))\n",
    "    df['numberOfDoors'] = df.numberOfDoors .apply(lambda x: int(x))\n",
    "    df['Привод'] = df['Привод'].apply(lambda x: x.lower())\n",
    "    df['enginePower'] = df.enginePower.apply(lambda x: int(x.split(' ')[0]))\n",
    "    df['productionDate'] = df['productionDate'].apply(lambda x: int(x))\n",
    "    return df"
   ]
  },
  {
   "cell_type": "code",
   "execution_count": 4,
   "metadata": {},
   "outputs": [],
   "source": [
    "def preproc_data(dft):\n",
    "\n",
    "    dft['name'] = df['name'].apply(lambda x: x.split(' ')[0])\n",
    "    dft.drop(['brand', 'vehicleConfiguration', 'description', 'equipment', 'color', 'mileage', 'pts', 'owners',\n",
    "              'wheel','state', 'customs', 'owningTime', 'Unnamed: 0', 'name_full', 'price'], axis=1, inplace=True)\n",
    "    dft['engineDisplacement'] = dft.engineDisplacement.apply(lambda x: x.split(' ')[0])\n",
    "    dft['drive'] = dft.drive.apply(lambda x: x.lower())\n",
    "    dft['enginePower'] = dft.enginePower.apply(lambda x: int(x.split(' ')[0]))\n",
    "    return dft"
   ]
  },
  {
   "cell_type": "code",
   "execution_count": 5,
   "metadata": {},
   "outputs": [],
   "source": [
    "df = pd.read_csv(r'C:\\Users\\Alex\\PycharmProjects\\untitled\\data\\auto_data_x_v2.csv')"
   ]
  },
  {
   "cell_type": "code",
   "execution_count": 6,
   "metadata": {},
   "outputs": [],
   "source": [
    "dft = pd.read_csv('test.csv')"
   ]
  },
  {
   "cell_type": "code",
   "execution_count": 7,
   "metadata": {},
   "outputs": [],
   "source": [
    "X_for_pred = preproc_test(dft)\n",
    "X = preproc_data(df)"
   ]
  },
  {
   "cell_type": "code",
   "execution_count": 8,
   "metadata": {},
   "outputs": [],
   "source": [
    "y = X.iloc[:,-1]\n",
    "X = X.iloc[:,:-1]\n",
    "X_for_pred.columns = X.columns"
   ]
  },
  {
   "cell_type": "code",
   "execution_count": 9,
   "metadata": {},
   "outputs": [],
   "source": [
    "model_list = y.value_counts().index.to_list()"
   ]
  },
  {
   "cell_type": "code",
   "execution_count": 10,
   "metadata": {},
   "outputs": [
    {
     "data": {
      "text/plain": [
       "['5', '3', 'x5', 'x3', '7', 'x6', 'x1', '1', 'x4', 'x7', '6', 'i3', 'i8']"
      ]
     },
     "execution_count": 10,
     "metadata": {},
     "output_type": "execute_result"
    }
   ],
   "source": [
    "model_list"
   ]
  },
  {
   "cell_type": "code",
   "execution_count": 11,
   "metadata": {},
   "outputs": [],
   "source": [
    "X_train, X_test, y_train, y_test = train_test_split(X, y, test_size=VAL_SIZE, shuffle=True, \n",
    "    random_state=RANDOM_SEED, stratify=y)"
   ]
  },
  {
   "cell_type": "code",
   "execution_count": 12,
   "metadata": {},
   "outputs": [],
   "source": [
    "cat_features = ['bodyType', 'fuelType', 'name', 'vehicleTransmission', 'engineDisplacement', 'drive']"
   ]
  },
  {
   "cell_type": "code",
   "execution_count": 13,
   "metadata": {},
   "outputs": [],
   "source": [
    "cls = CatBoostClassifier(iterations=1000, learning_rate=0.1, depth=None, class_names = model_list)"
   ]
  },
  {
   "cell_type": "code",
   "execution_count": 17,
   "metadata": {},
   "outputs": [
    {
     "data": {
      "text/plain": [
       "<catboost.core.CatBoostClassifier at 0x2b50d1934c8>"
      ]
     },
     "execution_count": 17,
     "metadata": {},
     "output_type": "execute_result"
    }
   ],
   "source": [
    "cls.fit(X_train, y_train, cat_features=cat_features, verbose=False)"
   ]
  },
  {
   "cell_type": "code",
   "execution_count": 15,
   "metadata": {},
   "outputs": [],
   "source": [
    "cls.save_model('model_feature_generator_v2')"
   ]
  },
  {
   "cell_type": "code",
   "execution_count": 19,
   "metadata": {},
   "outputs": [],
   "source": [
    "y_pred = cls.predict(X_test)"
   ]
  },
  {
   "cell_type": "code",
   "execution_count": 21,
   "metadata": {},
   "outputs": [
    {
     "name": "stdout",
     "output_type": "stream",
     "text": [
      "              precision    recall  f1-score   support\n",
      "\n",
      "           1       0.99      1.00      0.99        74\n",
      "           3       0.99      0.99      0.99       333\n",
      "           5       1.00      1.00      1.00       481\n",
      "           6       0.98      0.98      0.98        46\n",
      "           7       0.99      0.99      0.99       156\n",
      "          i3       1.00      1.00      1.00         3\n",
      "          i8       0.00      0.00      0.00         1\n",
      "          x1       1.00      1.00      1.00       120\n",
      "          x3       0.91      0.93      0.92       167\n",
      "          x4       1.00      0.55      0.71        49\n",
      "          x5       0.82      0.99      0.90       259\n",
      "          x6       0.97      1.00      0.98       129\n",
      "          x7       0.86      0.12      0.21        49\n",
      "\n",
      "    accuracy                           0.96      1867\n",
      "   macro avg       0.88      0.81      0.82      1867\n",
      "weighted avg       0.96      0.96      0.95      1867\n",
      "\n"
     ]
    }
   ],
   "source": [
    "print(classification_report(y_test, y_pred))"
   ]
  }
 ],
 "metadata": {
  "kernelspec": {
   "display_name": "Python 3",
   "language": "python",
   "name": "python3"
  },
  "language_info": {
   "codemirror_mode": {
    "name": "ipython",
    "version": 3
   },
   "file_extension": ".py",
   "mimetype": "text/x-python",
   "name": "python",
   "nbconvert_exporter": "python",
   "pygments_lexer": "ipython3",
   "version": "3.7.7"
  }
 },
 "nbformat": 4,
 "nbformat_minor": 4
}
