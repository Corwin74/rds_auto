{
 "cells": [
  {
   "cell_type": "code",
   "execution_count": 5,
   "source": [
    "import pandas as pd\n",
    "import numpy as np\n",
    "import sys\n",
    "import os\n",
    "from sklearn.model_selection import train_test_split\n",
    "from sklearn.model_selection import KFold\n",
    "from tqdm.notebook import tqdm\n",
    "from catboost import CatBoostRegressor, CatBoostClassifier\n",
    "import re\n",
    "from sklearn.preprocessing import OneHotEncoder, LabelEncoder\n",
    "from sklearn.model_selection import cross_val_score, train_test_split\n",
    "from sklearn.ensemble import BaggingRegressor, RandomForestClassifier, RandomForestRegressor, ExtraTreesRegressor\n",
    "from sklearn.tree import DecisionTreeRegressor\n",
    "from sklearn.linear_model import LogisticRegression\n",
    "from sklearn.preprocessing import StandardScaler\n",
    "from sklearn.metrics import mean_absolute_error\n",
    "import seaborn as sns\n",
    "from sklearn.preprocessing import PolynomialFeatures"
   ],
   "outputs": [],
   "metadata": {}
  },
  {
   "cell_type": "code",
   "execution_count": 6,
   "source": [
    "cwd = os.getcwd()\n",
    "df = pd.read_csv(cwd + r'/data/auto_data_x_v2.csv')\n",
    "dft = pd.read_csv(cwd + r'/data/test.csv')\n",
    "dft_f = pd.read_csv(cwd + r'/data/test.csv')\n",
    "from_file = CatBoostClassifier()\n",
    "from_file.load_model(cwd + r'/data/model_feature_generator')\n",
    "sample_submission = pd.read_csv(cwd + r'/data/sample_submission.csv')"
   ],
   "outputs": [],
   "metadata": {}
  },
  {
   "cell_type": "code",
   "execution_count": 7,
   "source": [
    "def ownerTime_to_month(x):\n",
    "    y_m = re.findall(r'\\d+', x['Владение'])\n",
    "    if len(y_m) == 0:\n",
    "        return -1\n",
    "    elif len(y_m) == 1:\n",
    "        return int(y_m[0]) * 12\n",
    "    else:\n",
    "        return int(y_m[0]) * 12 + int(y_m[1])"
   ],
   "outputs": [],
   "metadata": {}
  },
  {
   "cell_type": "code",
   "execution_count": 8,
   "source": [
    "#Проверим тестовый датасет на пропуски:\n",
    "\n",
    "colours = ['#FF5599', '#000000'] \n",
    "sns.heatmap(dft.isnull(), cbar=False, cmap=sns.color_palette(colours))"
   ],
   "outputs": [
    {
     "output_type": "execute_result",
     "data": {
      "text/plain": [
       "<AxesSubplot:>"
      ]
     },
     "metadata": {},
     "execution_count": 8
    },
    {
     "output_type": "display_data",
     "data": {
      "text/plain": [
       "<Figure size 432x288 with 1 Axes>"
      ],
      "image/png": "[encoded data removed]"
     },
     "metadata": {
      "needs_background": "light"
     }
    }
   ],
   "metadata": {}
  },
  {
   "cell_type": "code",
   "execution_count": 9,
   "source": [
    "dft['Владение'].fillna(\"\", inplace=True)\n",
    "dft['Владение'] = dft.apply(ownerTime_to_month, axis=1)"
   ],
   "outputs": [],
   "metadata": {}
  },
  {
   "cell_type": "code",
   "execution_count": 10,
   "source": [
    "dft.brand.unique()"
   ],
   "outputs": [
    {
     "output_type": "execute_result",
     "data": {
      "text/plain": [
       "array(['BMW'], dtype=object)"
      ]
     },
     "metadata": {},
     "execution_count": 10
    }
   ],
   "metadata": {}
  },
  {
   "cell_type": "markdown",
   "source": [
    "Только один бренд \"BMW\" - удаляем столбец"
   ],
   "metadata": {}
  },
  {
   "cell_type": "code",
   "execution_count": 11,
   "source": [
    "VERSION    = 11\n",
    "VAL_SIZE   = 0.25   # 33%\n",
    "N_FOLDS    = 5\n",
    "RANDOM_SEED = 42\n",
    "\n",
    "# CATBOOST\n",
    "ITERATIONS = 3000\n",
    "LR         = 0.1"
   ],
   "outputs": [],
   "metadata": {}
  },
  {
   "cell_type": "code",
   "execution_count": 12,
   "source": [
    "def fill_owners(row):   \n",
    "    if row['owners'] == np.NaN:\n",
    "        if row.mileage < 78500:\n",
    "            owners = 1\n",
    "        elif row.mileage < 133000:\n",
    "            owners = 2\n",
    "        else:\n",
    "            owners = 3\n",
    "        return owners\n",
    "    else:\n",
    "        return re.findall(r'\\d', row['owners'])[0]"
   ],
   "outputs": [],
   "metadata": {}
  },
  {
   "cell_type": "code",
   "execution_count": 13,
   "source": [
    "def fill_owners_test(row):\n",
    "    \n",
    "    if row['Владельцы'] == np.NaN:\n",
    "        if row.mileage < 78500:\n",
    "            owners = 1\n",
    "        elif row.mileage < 133000:\n",
    "            owners = 2\n",
    "        else:\n",
    "            owners = 3\n",
    "        return owners\n",
    "    else:\n",
    "        return re.findall(r'\\d', row['Владельцы'])[0]"
   ],
   "outputs": [],
   "metadata": {}
  },
  {
   "cell_type": "code",
   "execution_count": 14,
   "source": [
    "def preproc_test(df):\n",
    "    df = df.drop('brand', axis=1)\n",
    "    df['name'] = df['name'].apply(lambda x: x.split(' ')[0])\n",
    "    df.drop(['vehicleConfiguration', 'description', \n",
    "             'Комплектация',\n",
    "              'Руль','Состояние', 'Таможня', 'Владение', 'id'], axis=1, inplace=True)\n",
    "    df['engineDisplacement'] = df.engineDisplacement.apply(\n",
    "        lambda x: 0 if x.split(' ')[0] == 'undefined' else int(float(x.split(' ')[0])*10))\n",
    "    df['mileage'] = df.mileage.apply(lambda x: int(x))\n",
    "    df['modelDate'] = df.modelDate.apply(lambda x: int(x))\n",
    "    df['numberOfDoors'] = df.numberOfDoors.apply(lambda x: int(x))\n",
    "    df['Привод'] = df['Привод'].apply(lambda x: x.lower())\n",
    "    df['Владельцы'] = df.apply(fill_owners_test, axis=1)\n",
    "    df['enginePower'] = df.enginePower.apply(lambda x: int(x.split(' ')[0]))\n",
    "    df['productionDate'] = df['productionDate'].apply(lambda x: int(x))\n",
    "    return df\n",
    "\n",
    "def preproc_data(df):\n",
    "    df = df.drop('brand', axis=1)\n",
    "    df['name'] = df['name'].apply(lambda x: x.split(' ')[0])\n",
    "    df.drop(['vehicleConfiguration', 'description', \n",
    "             'equipment',\n",
    "             'name_full',\n",
    "              'wheel','state', 'customs', 'owningTime', 'Unnamed: 0'], axis=1, inplace=True)\n",
    "    df['engineDisplacement'] = df.engineDisplacement.apply(\n",
    "        lambda x: 0 if x.split(' ')[0] == 'undefined' else int(float(x.split(' ')[0])*10))\n",
    "    df['mileage'] = df.mileage.apply(lambda x: int(re.sub(r'[^\\d]', '', x)))\n",
    "    df['drive'] = df.drive.apply(lambda x: x.lower())\n",
    "    df['enginePower'] = df.enginePower.apply(lambda x: int(x.split(' ')[0]))\n",
    "    df['owners'] = df.apply(fill_owners, axis=1)\n",
    "    return df\n",
    "\n",
    "def preproc_test_feature_generation(df):\n",
    "    df = df.drop('brand', axis=1)\n",
    "    df['name'] = df['name'].apply(lambda x: x.split(' ')[0])\n",
    "    df.drop(['vehicleConfiguration', 'description', 'Комплектация',\n",
    "              'Руль','Состояние', 'Таможня', 'Владение', 'id', \n",
    "             'color', 'mileage', 'ПТС', 'Владельцы'], axis=1, inplace=True)\n",
    "    df['engineDisplacement'] = df.engineDisplacement.apply(lambda x: x.split(' ')[0])\n",
    "    df['modelDate'] = df.modelDate.apply(lambda x: int(x))\n",
    "    df['numberOfDoors'] = df.numberOfDoors .apply(lambda x: int(x))\n",
    "    df['Привод'] = df['Привод'].apply(lambda x: x.lower())\n",
    "    df['enginePower'] = df.enginePower.apply(lambda x: int(x.split(' ')[0]))\n",
    "    df['productionDate'] = df['productionDate'].apply(lambda x: int(x))\n",
    "    temp = df.columns.to_list()\n",
    "    temp[-1] = 'drive'\n",
    "    df.columns=temp\n",
    "    return df\n",
    "    \n",
    "def mape(y_true, y_pred):\n",
    "    return np.mean(np.abs((y_pred-y_true)/y_true))"
   ],
   "outputs": [],
   "metadata": {}
  },
  {
   "cell_type": "code",
   "execution_count": 15,
   "source": [
    "X_sub = preproc_test(dft)\n",
    "X = preproc_data(df)\n",
    "X_for_feature = preproc_test_feature_generation(dft_f)\n",
    "model = from_file.predict(X_for_feature)\n",
    "X_sub['model'] = model"
   ],
   "outputs": [],
   "metadata": {}
  },
  {
   "cell_type": "code",
   "execution_count": 16,
   "source": [
    "y = X.loc[:, 'price']\n",
    "X.drop('price', axis=1, inplace=True)"
   ],
   "outputs": [],
   "metadata": {}
  },
  {
   "cell_type": "code",
   "execution_count": 17,
   "source": [
    "X_sub.columns = X.columns"
   ],
   "outputs": [],
   "metadata": {}
  },
  {
   "cell_type": "code",
   "execution_count": 18,
   "source": [
    "X_sub.head()"
   ],
   "outputs": [
    {
     "output_type": "execute_result",
     "data": {
      "text/plain": [
       "            bodyType   color fuelType  modelDate  name  numberOfDoors  \\\n",
       "0              седан  чёрный   дизель       2016  520d              4   \n",
       "1              седан   белый   дизель       2018  318d              4   \n",
       "2              седан   синий   бензин       2009  550i              4   \n",
       "3  внедорожник 5 дв.   белый   дизель       2014   30d              5   \n",
       "4  внедорожник 5 дв.   синий   дизель       2014  M50d              5   \n",
       "\n",
       "   productionDate vehicleTransmission  engineDisplacement  enginePower  \\\n",
       "0            2017      автоматическая                  20          190   \n",
       "1            2019      автоматическая                  20          150   \n",
       "2            2012      автоматическая                  44          407   \n",
       "3            2015      автоматическая                  30          249   \n",
       "4            2019      автоматическая                  30          381   \n",
       "\n",
       "   mileage   drive owners       pts model  \n",
       "0   158836  задний      1  Оригинал     5  \n",
       "1       10  задний      1  Оригинал     3  \n",
       "2   120000  полный      2  Оригинал     5  \n",
       "3   111466  полный      2  Оригинал    x6  \n",
       "4    11891  полный      1  Оригинал    x6  "
      ],
      "text/html": [
       "<div>\n",
       "<style scoped>\n",
       "    .dataframe tbody tr th:only-of-type {\n",
       "        vertical-align: middle;\n",
       "    }\n",
       "\n",
       "    .dataframe tbody tr th {\n",
       "        vertical-align: top;\n",
       "    }\n",
       "\n",
       "    .dataframe thead th {\n",
       "        text-align: right;\n",
       "    }\n",
       "</style>\n",
       "<table border=\"1\" class=\"dataframe\">\n",
       "  <thead>\n",
       "    <tr style=\"text-align: right;\">\n",
       "      <th></th>\n",
       "      <th>bodyType</th>\n",
       "      <th>color</th>\n",
       "      <th>fuelType</th>\n",
       "      <th>modelDate</th>\n",
       "      <th>name</th>\n",
       "      <th>numberOfDoors</th>\n",
       "      <th>productionDate</th>\n",
       "      <th>vehicleTransmission</th>\n",
       "      <th>engineDisplacement</th>\n",
       "      <th>enginePower</th>\n",
       "      <th>mileage</th>\n",
       "      <th>drive</th>\n",
       "      <th>owners</th>\n",
       "      <th>pts</th>\n",
       "      <th>model</th>\n",
       "    </tr>\n",
       "  </thead>\n",
       "  <tbody>\n",
       "    <tr>\n",
       "      <th>0</th>\n",
       "      <td>седан</td>\n",
       "      <td>чёрный</td>\n",
       "      <td>дизель</td>\n",
       "      <td>2016</td>\n",
       "      <td>520d</td>\n",
       "      <td>4</td>\n",
       "      <td>2017</td>\n",
       "      <td>автоматическая</td>\n",
       "      <td>20</td>\n",
       "      <td>190</td>\n",
       "      <td>158836</td>\n",
       "      <td>задний</td>\n",
       "      <td>1</td>\n",
       "      <td>Оригинал</td>\n",
       "      <td>5</td>\n",
       "    </tr>\n",
       "    <tr>\n",
       "      <th>1</th>\n",
       "      <td>седан</td>\n",
       "      <td>белый</td>\n",
       "      <td>дизель</td>\n",
       "      <td>2018</td>\n",
       "      <td>318d</td>\n",
       "      <td>4</td>\n",
       "      <td>2019</td>\n",
       "      <td>автоматическая</td>\n",
       "      <td>20</td>\n",
       "      <td>150</td>\n",
       "      <td>10</td>\n",
       "      <td>задний</td>\n",
       "      <td>1</td>\n",
       "      <td>Оригинал</td>\n",
       "      <td>3</td>\n",
       "    </tr>\n",
       "    <tr>\n",
       "      <th>2</th>\n",
       "      <td>седан</td>\n",
       "      <td>синий</td>\n",
       "      <td>бензин</td>\n",
       "      <td>2009</td>\n",
       "      <td>550i</td>\n",
       "      <td>4</td>\n",
       "      <td>2012</td>\n",
       "      <td>автоматическая</td>\n",
       "      <td>44</td>\n",
       "      <td>407</td>\n",
       "      <td>120000</td>\n",
       "      <td>полный</td>\n",
       "      <td>2</td>\n",
       "      <td>Оригинал</td>\n",
       "      <td>5</td>\n",
       "    </tr>\n",
       "    <tr>\n",
       "      <th>3</th>\n",
       "      <td>внедорожник 5 дв.</td>\n",
       "      <td>белый</td>\n",
       "      <td>дизель</td>\n",
       "      <td>2014</td>\n",
       "      <td>30d</td>\n",
       "      <td>5</td>\n",
       "      <td>2015</td>\n",
       "      <td>автоматическая</td>\n",
       "      <td>30</td>\n",
       "      <td>249</td>\n",
       "      <td>111466</td>\n",
       "      <td>полный</td>\n",
       "      <td>2</td>\n",
       "      <td>Оригинал</td>\n",
       "      <td>x6</td>\n",
       "    </tr>\n",
       "    <tr>\n",
       "      <th>4</th>\n",
       "      <td>внедорожник 5 дв.</td>\n",
       "      <td>синий</td>\n",
       "      <td>дизель</td>\n",
       "      <td>2014</td>\n",
       "      <td>M50d</td>\n",
       "      <td>5</td>\n",
       "      <td>2019</td>\n",
       "      <td>автоматическая</td>\n",
       "      <td>30</td>\n",
       "      <td>381</td>\n",
       "      <td>11891</td>\n",
       "      <td>полный</td>\n",
       "      <td>1</td>\n",
       "      <td>Оригинал</td>\n",
       "      <td>x6</td>\n",
       "    </tr>\n",
       "  </tbody>\n",
       "</table>\n",
       "</div>"
      ]
     },
     "metadata": {},
     "execution_count": 18
    }
   ],
   "metadata": {}
  },
  {
   "cell_type": "markdown",
   "source": [
    "feature"
   ],
   "metadata": {}
  },
  {
   "cell_type": "code",
   "execution_count": 33,
   "source": [
    "regr = RandomForestRegressor(n_estimators=100)\n",
    "train_forest = X.loc[:, ['productionDate', 'mileage']]\n",
    "X_train_f, X_test_f, y_train_f, y_test_f = train_test_split(train_forest, y, test_size=0.2, random_state=RANDOM_SEED)\n",
    "regr.fit(X_train_f, y_train_f)\n",
    "y_pred = regr.predict(X_test_f)\n",
    "print(f\" MAPE: {mape(y_test_f, y_pred ):0.3f}\")"
   ],
   "outputs": [
    {
     "output_type": "stream",
     "name": "stdout",
     "text": [
      " MAPE: 0.339\n"
     ]
    }
   ],
   "metadata": {}
  },
  {
   "cell_type": "code",
   "execution_count": 39,
   "source": [
    "#Обучим лес на всех данных:\n",
    "regr.fit(train_forest, y)\n",
    "X_sub['price_RF'] = (regr.predict(dft.loc[:, ['productionDate', 'mileage']]).round()).astype('int')\n",
    "X['price_RF'] = (regr.predict(X.loc[:, ['productionDate', 'mileage']]).round()).astype('int')"
   ],
   "outputs": [],
   "metadata": {}
  },
  {
   "cell_type": "code",
   "execution_count": 40,
   "source": [
    "X.head()"
   ],
   "outputs": [
    {
     "output_type": "execute_result",
     "data": {
      "text/plain": [
       "        bodyType    color fuelType  modelDate  name  numberOfDoors  \\\n",
       "0  хэтчбек 3 дв.    белый   бензин       2007  116i              3   \n",
       "1  хэтчбек 5 дв.  красный   бензин       2011  116i              5   \n",
       "2  хэтчбек 5 дв.    серый   дизель       2007  120d              5   \n",
       "3      кабриолет  красный   бензин       2007  120i              2   \n",
       "4  хэтчбек 3 дв.  красный   бензин       2007  118i              3   \n",
       "\n",
       "   productionDate vehicleTransmission  engineDisplacement  enginePower  \\\n",
       "0            2011      автоматическая                  16          115   \n",
       "1            2013      автоматическая                  16          136   \n",
       "2            2008      автоматическая                  20          177   \n",
       "3            2009      автоматическая                  20          156   \n",
       "4            2008      автоматическая                  20          136   \n",
       "\n",
       "   mileage   drive owners       pts model  price_RF  \n",
       "0   101000  задний      3  Оригинал     1    649059  \n",
       "1   160000  задний      3  Дубликат     1   1168816  \n",
       "2   233378  задний      3  Оригинал     1    504402  \n",
       "3    36000  задний      3  Оригинал     1   1710690  \n",
       "4   222400  задний      3  Оригинал     1    505960  "
      ],
      "text/html": [
       "<div>\n",
       "<style scoped>\n",
       "    .dataframe tbody tr th:only-of-type {\n",
       "        vertical-align: middle;\n",
       "    }\n",
       "\n",
       "    .dataframe tbody tr th {\n",
       "        vertical-align: top;\n",
       "    }\n",
       "\n",
       "    .dataframe thead th {\n",
       "        text-align: right;\n",
       "    }\n",
       "</style>\n",
       "<table border=\"1\" class=\"dataframe\">\n",
       "  <thead>\n",
       "    <tr style=\"text-align: right;\">\n",
       "      <th></th>\n",
       "      <th>bodyType</th>\n",
       "      <th>color</th>\n",
       "      <th>fuelType</th>\n",
       "      <th>modelDate</th>\n",
       "      <th>name</th>\n",
       "      <th>numberOfDoors</th>\n",
       "      <th>productionDate</th>\n",
       "      <th>vehicleTransmission</th>\n",
       "      <th>engineDisplacement</th>\n",
       "      <th>enginePower</th>\n",
       "      <th>mileage</th>\n",
       "      <th>drive</th>\n",
       "      <th>owners</th>\n",
       "      <th>pts</th>\n",
       "      <th>model</th>\n",
       "      <th>price_RF</th>\n",
       "    </tr>\n",
       "  </thead>\n",
       "  <tbody>\n",
       "    <tr>\n",
       "      <th>0</th>\n",
       "      <td>хэтчбек 3 дв.</td>\n",
       "      <td>белый</td>\n",
       "      <td>бензин</td>\n",
       "      <td>2007</td>\n",
       "      <td>116i</td>\n",
       "      <td>3</td>\n",
       "      <td>2011</td>\n",
       "      <td>автоматическая</td>\n",
       "      <td>16</td>\n",
       "      <td>115</td>\n",
       "      <td>101000</td>\n",
       "      <td>задний</td>\n",
       "      <td>3</td>\n",
       "      <td>Оригинал</td>\n",
       "      <td>1</td>\n",
       "      <td>649059</td>\n",
       "    </tr>\n",
       "    <tr>\n",
       "      <th>1</th>\n",
       "      <td>хэтчбек 5 дв.</td>\n",
       "      <td>красный</td>\n",
       "      <td>бензин</td>\n",
       "      <td>2011</td>\n",
       "      <td>116i</td>\n",
       "      <td>5</td>\n",
       "      <td>2013</td>\n",
       "      <td>автоматическая</td>\n",
       "      <td>16</td>\n",
       "      <td>136</td>\n",
       "      <td>160000</td>\n",
       "      <td>задний</td>\n",
       "      <td>3</td>\n",
       "      <td>Дубликат</td>\n",
       "      <td>1</td>\n",
       "      <td>1168816</td>\n",
       "    </tr>\n",
       "    <tr>\n",
       "      <th>2</th>\n",
       "      <td>хэтчбек 5 дв.</td>\n",
       "      <td>серый</td>\n",
       "      <td>дизель</td>\n",
       "      <td>2007</td>\n",
       "      <td>120d</td>\n",
       "      <td>5</td>\n",
       "      <td>2008</td>\n",
       "      <td>автоматическая</td>\n",
       "      <td>20</td>\n",
       "      <td>177</td>\n",
       "      <td>233378</td>\n",
       "      <td>задний</td>\n",
       "      <td>3</td>\n",
       "      <td>Оригинал</td>\n",
       "      <td>1</td>\n",
       "      <td>504402</td>\n",
       "    </tr>\n",
       "    <tr>\n",
       "      <th>3</th>\n",
       "      <td>кабриолет</td>\n",
       "      <td>красный</td>\n",
       "      <td>бензин</td>\n",
       "      <td>2007</td>\n",
       "      <td>120i</td>\n",
       "      <td>2</td>\n",
       "      <td>2009</td>\n",
       "      <td>автоматическая</td>\n",
       "      <td>20</td>\n",
       "      <td>156</td>\n",
       "      <td>36000</td>\n",
       "      <td>задний</td>\n",
       "      <td>3</td>\n",
       "      <td>Оригинал</td>\n",
       "      <td>1</td>\n",
       "      <td>1710690</td>\n",
       "    </tr>\n",
       "    <tr>\n",
       "      <th>4</th>\n",
       "      <td>хэтчбек 3 дв.</td>\n",
       "      <td>красный</td>\n",
       "      <td>бензин</td>\n",
       "      <td>2007</td>\n",
       "      <td>118i</td>\n",
       "      <td>3</td>\n",
       "      <td>2008</td>\n",
       "      <td>автоматическая</td>\n",
       "      <td>20</td>\n",
       "      <td>136</td>\n",
       "      <td>222400</td>\n",
       "      <td>задний</td>\n",
       "      <td>3</td>\n",
       "      <td>Оригинал</td>\n",
       "      <td>1</td>\n",
       "      <td>505960</td>\n",
       "    </tr>\n",
       "  </tbody>\n",
       "</table>\n",
       "</div>"
      ]
     },
     "metadata": {},
     "execution_count": 40
    }
   ],
   "metadata": {}
  },
  {
   "cell_type": "code",
   "execution_count": 41,
   "source": [
    "# Переводим года изготовления в возраст и возведем возраст в квадрат, добавив новый признак\n",
    "\n",
    "X['modelDate'] = 2021 - X.modelDate\n",
    "X_sub['modelDate'] = 2021 - X_sub.modelDate\n",
    "X_sub['modelDate2'] = X_sub['modelDate'] ** 2\n",
    "X['modelDate2'] = X['modelDate'] ** 2\n",
    "\n",
    "X['productionDate'] = 2021 - X.productionDate\n",
    "X_sub['productionDate'] = 2021 - X_sub.productionDate\n",
    "X_sub['productionDate2'] = X['productionDate'] ** 2\n",
    "X['productionDate2'] = X['productionDate'] ** 2"
   ],
   "outputs": [],
   "metadata": {}
  },
  {
   "cell_type": "code",
   "execution_count": 42,
   "source": [
    "X_train, X_test, y_train, y_test = train_test_split(X, y, test_size=VAL_SIZE, shuffle=True, random_state=RANDOM_SEED)"
   ],
   "outputs": [],
   "metadata": {}
  },
  {
   "cell_type": "code",
   "execution_count": 43,
   "source": [
    "cat_features = ['bodyType', 'color', 'fuelType', 'name', 'vehicleTransmission', 'engineDisplacement', \n",
    "                'drive', 'pts', 'owners', 'model']"
   ],
   "outputs": [],
   "metadata": {}
  },
  {
   "cell_type": "markdown",
   "source": [
    "## Запуск CatBoost"
   ],
   "metadata": {}
  },
  {
   "cell_type": "code",
   "execution_count": 44,
   "source": [
    "model = CatBoostRegressor(iterations = ITERATIONS,\n",
    "                              learning_rate = LR,\n",
    "                              eval_metric='MAPE',\n",
    "                              random_seed = RANDOM_SEED,)\n",
    "model.fit(X_train, y_train,\n",
    "            cat_features=cat_features,\n",
    "            eval_set=(X_test, y_test),\n",
    "            verbose_eval=1000,\n",
    "            use_best_model=True,\n",
    "            plot=False)\n"
   ],
   "outputs": [
    {
     "output_type": "stream",
     "name": "stdout",
     "text": [
      "0:\tlearn: 1.4770392\ttest: 1.4664641\tbest: 1.4664641 (0)\ttotal: 56.9ms\tremaining: 2m 50s\n",
      "1000:\tlearn: 0.0769232\ttest: 0.1035948\tbest: 0.1035912 (974)\ttotal: 3.89s\tremaining: 7.77s\n",
      "2000:\tlearn: 0.0644815\ttest: 0.1028488\tbest: 0.1026034 (1861)\ttotal: 7.74s\tremaining: 3.86s\n",
      "2999:\tlearn: 0.0558917\ttest: 0.1040099\tbest: 0.1026034 (1861)\ttotal: 11.6s\tremaining: 0us\n",
      "\n",
      "bestTest = 0.1026033895\n",
      "bestIteration = 1861\n",
      "\n",
      "Shrink model to first 1862 iterations.\n"
     ]
    },
    {
     "output_type": "execute_result",
     "data": {
      "text/plain": [
       "<catboost.core.CatBoostRegressor at 0x7f34c06a4100>"
      ]
     },
     "metadata": {},
     "execution_count": 44
    }
   ],
   "metadata": {}
  },
  {
   "cell_type": "code",
   "execution_count": 45,
   "source": [
    "model.fit(X, y,\n",
    "        cat_features=cat_features,\n",
    "            verbose_eval=1000,\n",
    "            use_best_model=True,\n",
    "            plot=False)"
   ],
   "outputs": [
    {
     "output_type": "stream",
     "name": "stderr",
     "text": [
      "You should provide test set for use best model. use_best_model parameter has been switched to false value.\n"
     ]
    },
    {
     "output_type": "stream",
     "name": "stdout",
     "text": [
      "0:\tlearn: 1.4617861\ttotal: 5.86ms\tremaining: 17.6s\n",
      "1000:\tlearn: 0.0800085\ttotal: 4.49s\tremaining: 8.96s\n",
      "2000:\tlearn: 0.0688748\ttotal: 8.41s\tremaining: 4.2s\n",
      "2999:\tlearn: 0.0616330\ttotal: 12.4s\tremaining: 0us\n"
     ]
    },
    {
     "output_type": "execute_result",
     "data": {
      "text/plain": [
       "<catboost.core.CatBoostRegressor at 0x7f34c06a4100>"
      ]
     },
     "metadata": {},
     "execution_count": 45
    }
   ],
   "metadata": {}
  },
  {
   "cell_type": "code",
   "execution_count": 46,
   "source": [
    "predict_submission = model.predict(X_sub)\n",
    "predict_submission"
   ],
   "outputs": [
    {
     "output_type": "execute_result",
     "data": {
      "text/plain": [
       "array([1518931.32643031, 2775871.54645455, 1322118.05007156, ...,\n",
       "        478567.0847668 , 1381053.57054324, 1263972.91092098])"
      ]
     },
     "metadata": {},
     "execution_count": 46
    }
   ],
   "metadata": {}
  },
  {
   "cell_type": "code",
   "execution_count": 49,
   "source": [
    "sample_submission = pd.read_csv(cwd + '/data/sample_submission.csv')\n",
    "sample_submission['price'] = predict_submission\n",
    "sample_submission.to_csv(f'submission_v{VERSION}.csv', index=False)\n",
    "sample_submission.head(10)"
   ],
   "outputs": [
    {
     "output_type": "execute_result",
     "data": {
      "text/plain": [
       "   id     price\n",
       "0   0   1846520\n",
       "1   1  10478924\n",
       "2   2   1141126\n",
       "3   3   1586438\n",
       "4   4   2817210\n",
       "5   5   1369370\n",
       "6   6   1206912\n",
       "7   7    821575\n",
       "8   8   1278306\n",
       "9   9   2088448"
      ],
      "text/html": [
       "<div>\n",
       "<style scoped>\n",
       "    .dataframe tbody tr th:only-of-type {\n",
       "        vertical-align: middle;\n",
       "    }\n",
       "\n",
       "    .dataframe tbody tr th {\n",
       "        vertical-align: top;\n",
       "    }\n",
       "\n",
       "    .dataframe thead th {\n",
       "        text-align: right;\n",
       "    }\n",
       "</style>\n",
       "<table border=\"1\" class=\"dataframe\">\n",
       "  <thead>\n",
       "    <tr style=\"text-align: right;\">\n",
       "      <th></th>\n",
       "      <th>id</th>\n",
       "      <th>price</th>\n",
       "    </tr>\n",
       "  </thead>\n",
       "  <tbody>\n",
       "    <tr>\n",
       "      <th>0</th>\n",
       "      <td>0</td>\n",
       "      <td>1846520</td>\n",
       "    </tr>\n",
       "    <tr>\n",
       "      <th>1</th>\n",
       "      <td>1</td>\n",
       "      <td>10478924</td>\n",
       "    </tr>\n",
       "    <tr>\n",
       "      <th>2</th>\n",
       "      <td>2</td>\n",
       "      <td>1141126</td>\n",
       "    </tr>\n",
       "    <tr>\n",
       "      <th>3</th>\n",
       "      <td>3</td>\n",
       "      <td>1586438</td>\n",
       "    </tr>\n",
       "    <tr>\n",
       "      <th>4</th>\n",
       "      <td>4</td>\n",
       "      <td>2817210</td>\n",
       "    </tr>\n",
       "    <tr>\n",
       "      <th>5</th>\n",
       "      <td>5</td>\n",
       "      <td>1369370</td>\n",
       "    </tr>\n",
       "    <tr>\n",
       "      <th>6</th>\n",
       "      <td>6</td>\n",
       "      <td>1206912</td>\n",
       "    </tr>\n",
       "    <tr>\n",
       "      <th>7</th>\n",
       "      <td>7</td>\n",
       "      <td>821575</td>\n",
       "    </tr>\n",
       "    <tr>\n",
       "      <th>8</th>\n",
       "      <td>8</td>\n",
       "      <td>1278306</td>\n",
       "    </tr>\n",
       "    <tr>\n",
       "      <th>9</th>\n",
       "      <td>9</td>\n",
       "      <td>2088448</td>\n",
       "    </tr>\n",
       "  </tbody>\n",
       "</table>\n",
       "</div>"
      ]
     },
     "metadata": {},
     "execution_count": 49
    }
   ],
   "metadata": {}
  }
 ],
 "metadata": {
  "kernelspec": {
   "display_name": "Python 3",
   "language": "python",
   "name": "python3"
  },
  "language_info": {
   "codemirror_mode": {
    "name": "ipython",
    "version": 3
   },
   "file_extension": ".py",
   "mimetype": "text/x-python",
   "name": "python",
   "nbconvert_exporter": "python",
   "pygments_lexer": "ipython3",
   "version": "3.7.7"
  }
 },
 "nbformat": 4,
 "nbformat_minor": 4
}