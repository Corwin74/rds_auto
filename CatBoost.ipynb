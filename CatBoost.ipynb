{
 "cells": [
  {
   "cell_type": "code",
   "execution_count": 66,
   "source": [
    "import pandas as pd\n",
    "import numpy as np\n",
    "import sys\n",
    "import os\n",
    "from sklearn.model_selection import train_test_split\n",
    "from sklearn.model_selection import KFold\n",
    "from tqdm.notebook import tqdm\n",
    "from catboost import CatBoostRegressor, CatBoostClassifier\n",
    "import re\n",
    "from sklearn.preprocessing import OneHotEncoder, LabelEncoder\n",
    "from sklearn.model_selection import cross_val_score, train_test_split\n",
    "from sklearn.ensemble import BaggingRegressor, RandomForestClassifier, RandomForestRegressor, ExtraTreesRegressor\n",
    "from sklearn.tree import DecisionTreeRegressor\n",
    "from sklearn.linear_model import LogisticRegression\n",
    "from sklearn.preprocessing import StandardScaler\n",
    "from sklearn.metrics import mean_absolute_error"
   ],
   "outputs": [],
   "metadata": {}
  },
  {
   "cell_type": "code",
   "execution_count": 67,
   "source": [
    "VERSION    = 11\n",
    "VAL_SIZE   = 0.25   # 33%\n",
    "N_FOLDS    = 5\n",
    "RANDOM_SEED = 42\n",
    "\n",
    "# CATBOOST\n",
    "ITERATIONS = 2000\n",
    "LR         = 0.05"
   ],
   "outputs": [],
   "metadata": {}
  },
  {
   "cell_type": "code",
   "execution_count": 68,
   "source": [
    "def fill_owners(row):   \n",
    "    if row['owners'] == np.NaN:\n",
    "        if row.mileage < 78500:\n",
    "            owners = 1\n",
    "        elif row.mileage < 133000:\n",
    "            owners = 2\n",
    "        else:\n",
    "            owners = 3\n",
    "        return owners\n",
    "    else:\n",
    "        return re.findall(r'\\d', row['owners'])[0]"
   ],
   "outputs": [],
   "metadata": {}
  },
  {
   "cell_type": "code",
   "execution_count": 69,
   "source": [
    "def fill_owners_test(row):\n",
    "    \n",
    "    if row['Владельцы'] == np.NaN:\n",
    "        if row.mileage < 78500:\n",
    "            owners = 1\n",
    "        elif row.mileage < 133000:\n",
    "            owners = 2\n",
    "        else:\n",
    "            owners = 3\n",
    "        return owners\n",
    "    else:\n",
    "        return re.findall(r'\\d', row['Владельцы'])[0]"
   ],
   "outputs": [],
   "metadata": {}
  },
  {
   "cell_type": "code",
   "execution_count": 70,
   "source": [
    "def preproc_test(df):\n",
    "    df = df.drop('brand', axis=1)\n",
    "    df['name'] = df['name'].apply(lambda x: x.split(' ')[0])\n",
    "    df.drop(['vehicleConfiguration', 'description', \n",
    "             'Комплектация',\n",
    "              'Руль','Состояние', 'Таможня', 'Владение', 'id'], axis=1, inplace=True)\n",
    "    df['engineDisplacement'] = df.engineDisplacement.apply(\n",
    "        lambda x: 0 if x.split(' ')[0] == 'undefined' else int(float(x.split(' ')[0])*10))\n",
    "    df['mileage'] = df.mileage.apply(lambda x: int(x))\n",
    "    df['modelDate'] = df.modelDate.apply(lambda x: int(x))\n",
    "    df['numberOfDoors'] = df.numberOfDoors.apply(lambda x: int(x))\n",
    "    df['Привод'] = df['Привод'].apply(lambda x: x.lower())\n",
    "    df['Владельцы'] = df.apply(fill_owners_test, axis=1)\n",
    "    df['enginePower'] = df.enginePower.apply(lambda x: int(x.split(' ')[0]))\n",
    "    df['productionDate'] = df['productionDate'].apply(lambda x: int(x))\n",
    "    return df\n",
    "\n",
    "def preproc_data(df):\n",
    "    df = df.drop('brand', axis=1)\n",
    "    df['name'] = df['name'].apply(lambda x: x.split(' ')[0])\n",
    "    df.drop(['vehicleConfiguration', 'description', \n",
    "             'equipment',\n",
    "             'name_full',\n",
    "              'wheel','state', 'customs', 'owningTime', 'Unnamed: 0'], axis=1, inplace=True)\n",
    "    df['engineDisplacement'] = df.engineDisplacement.apply(\n",
    "        lambda x: 0 if x.split(' ')[0] == 'undefined' else int(float(x.split(' ')[0])*10))\n",
    "    df['mileage'] = df.mileage.apply(lambda x: int(re.sub(r'[^\\d]', '', x)))\n",
    "    df['drive'] = df.drive.apply(lambda x: x.lower())\n",
    "    df['enginePower'] = df.enginePower.apply(lambda x: int(x.split(' ')[0]))\n",
    "    df['owners'] = df.apply(fill_owners, axis=1)\n",
    "    return df\n",
    "\n",
    "def preproc_test_feature_generation(df):\n",
    "    df = df.drop('brand', axis=1)\n",
    "    df['name'] = df['name'].apply(lambda x: x.split(' ')[0])\n",
    "    df.drop(['vehicleConfiguration', 'description', 'Комплектация',\n",
    "              'Руль','Состояние', 'Таможня', 'Владение', 'id', \n",
    "             'color', 'mileage', 'ПТС', 'Владельцы'], axis=1, inplace=True)\n",
    "    df['engineDisplacement'] = df.engineDisplacement.apply(lambda x: x.split(' ')[0])\n",
    "    df['modelDate'] = df.modelDate.apply(lambda x: int(x))\n",
    "    df['numberOfDoors'] = df.numberOfDoors .apply(lambda x: int(x))\n",
    "    df['Привод'] = df['Привод'].apply(lambda x: x.lower())\n",
    "    df['enginePower'] = df.enginePower.apply(lambda x: int(x.split(' ')[0]))\n",
    "    df['productionDate'] = df['productionDate'].apply(lambda x: int(x))\n",
    "    temp = df.columns.to_list()\n",
    "    temp[-1] = 'drive'\n",
    "    df.columns=temp\n",
    "    return df"
   ],
   "outputs": [],
   "metadata": {}
  },
  {
   "cell_type": "code",
   "execution_count": 71,
   "source": [
    "cwd = os.getcwd()\n",
    "df = pd.read_csv(cwd + r'\\data\\auto_data_x_v2.csv')\n",
    "dft = pd.read_csv(cwd + r'\\data\\test.csv')\n",
    "dft_f = pd.read_csv(cwd + r'\\data\\test.csv')\n",
    "from_file = CatBoostClassifier()\n",
    "from_file.load_model('model_feature_generator_v2')\n",
    "sample_submission = pd.read_csv(cwd + r'\\data\\sample_submission.csv')"
   ],
   "outputs": [],
   "metadata": {}
  },
  {
   "cell_type": "code",
   "execution_count": 72,
   "source": [
    "X_sub = preproc_test(dft)\n",
    "X = preproc_data(df)\n",
    "X_for_feature = preproc_test_feature_generation(dft_f)\n",
    "model = from_file.predict(X_for_feature)\n",
    "X_sub['model'] = model"
   ],
   "outputs": [],
   "metadata": {}
  },
  {
   "cell_type": "code",
   "execution_count": 73,
   "source": [
    "#5 modelDate\n",
    "X['modelDate2'] = 2020 - X.modelDate\n",
    "X_sub['modelDate2'] = 2020 - X_sub.modelDate\n",
    "# 9 productionDate\n",
    "X['productionDate2'] = 2020 - X.productionDate\n",
    "X_sub['productionDate2'] = 2020 - X_sub.productionDate"
   ],
   "outputs": [],
   "metadata": {}
  },
  {
   "cell_type": "code",
   "execution_count": 74,
   "source": [
    "y = X.loc[:, 'price']\n",
    "X.drop('price', axis=1, inplace=True)"
   ],
   "outputs": [],
   "metadata": {}
  },
  {
   "cell_type": "code",
   "execution_count": 75,
   "source": [
    "X_train, X_test, y_train, y_test = train_test_split(X, y, test_size=VAL_SIZE, shuffle=True, random_state=RANDOM_SEED)"
   ],
   "outputs": [],
   "metadata": {}
  },
  {
   "cell_type": "code",
   "execution_count": 76,
   "source": [
    "X_sub.columns = X.columns"
   ],
   "outputs": [],
   "metadata": {}
  },
  {
   "cell_type": "code",
   "execution_count": 77,
   "source": [
    "cat_features = ['bodyType', 'color', 'fuelType', 'name', 'vehicleTransmission', 'engineDisplacement', \n",
    "                'drive', 'pts', 'owners', 'model']"
   ],
   "outputs": [],
   "metadata": {}
  },
  {
   "cell_type": "code",
   "execution_count": 78,
   "source": [
    "def cat_model(y_train, X_train, X_test, y_test):\n",
    "    model = CatBoostRegressor(iterations = ITERATIONS,\n",
    "                              learning_rate = LR,\n",
    "                              eval_metric='MAPE',\n",
    "                              random_seed = RANDOM_SEED,)\n",
    "    model.fit(X_train, y_train,\n",
    "              cat_features=cat_features,\n",
    "              eval_set=(X_test, y_test),\n",
    "              verbose=False,\n",
    "              use_best_model=True,\n",
    "              plot=False)\n",
    "    \n",
    "    return(model)\n",
    "\n",
    "\n",
    "def mape(y_true, y_pred):\n",
    "    return np.mean(np.abs((y_pred-y_true)/y_true))"
   ],
   "outputs": [],
   "metadata": {}
  },
  {
   "cell_type": "markdown",
   "source": [
    "## Запуск CatBoost"
   ],
   "metadata": {}
  },
  {
   "cell_type": "code",
   "execution_count": 79,
   "source": [
    "submissions = pd.DataFrame(0,columns=[\"sub_1\"], index=sample_submission.index) # куда пишем предикты по каждой модели\n",
    "score_ls = []\n",
    "splits = list(KFold(n_splits=N_FOLDS, shuffle=True, random_state=RANDOM_SEED).split(X, y))\n",
    "\n",
    "for idx, (train_idx, test_idx) in tqdm(enumerate(splits), total=N_FOLDS,):\n",
    "    # use the indexes to extract the folds in the train and validation data\n",
    "    X_train, y_train, X_test, y_test = X.iloc[train_idx], y[train_idx], X.iloc[test_idx], y[test_idx]\n",
    "    # model for this fold\n",
    "    model = cat_model(y_train, X_train, X_test, y_test,)\n",
    "    # score model on test\n",
    "    test_predict = model.predict(X_test)\n",
    "    test_score = mape(y_test, test_predict)\n",
    "    score_ls.append(test_score)\n",
    "    print(f\"{idx+1} Fold Test MAPE: {mape(y_test, test_predict):0.3f}\")\n",
    "    # submissions\n",
    "    submissions[f'sub_{idx+1}'] = model.predict(X_sub)\n",
    "    model.save_model(f'catboost_fold_{idx+1}.model')\n",
    "    \n",
    "print(f'Mean Score: {np.mean(score_ls):0.3f}')\n",
    "print(f'Std Score: {np.std(score_ls):0.4f}')\n",
    "print(f'Max Score: {np.max(score_ls):0.3f}')\n",
    "print(f'Min Score: {np.min(score_ls):0.3f}')"
   ],
   "outputs": [
    {
     "output_type": "display_data",
     "data": {
      "text/plain": [
       "HBox(children=(FloatProgress(value=0.0, max=5.0), HTML(value='')))"
      ],
      "application/vnd.jupyter.widget-view+json": {
       "model_id": "95a2eca4e9aa4a649ea0e50064ecb693",
       "version_major": 2,
       "version_minor": 0
      }
     },
     "metadata": {}
    },
    {
     "output_type": "stream",
     "name": "stdout",
     "text": [
      "1 Fold Test MAPE: 0.121\n",
      "2 Fold Test MAPE: 0.122\n",
      "3 Fold Test MAPE: 0.128\n",
      "4 Fold Test MAPE: 0.124\n",
      "5 Fold Test MAPE: 0.123\n",
      "\n",
      "Mean Score: 0.124\n",
      "Std Score: 0.0024\n",
      "Max Score: 0.128\n",
      "Min Score: 0.121\n"
     ]
    }
   ],
   "metadata": {}
  },
  {
   "cell_type": "code",
   "execution_count": 80,
   "source": [
    "submissions.head(10)"
   ],
   "outputs": [
    {
     "output_type": "execute_result",
     "data": {
      "text/plain": [
       "          sub_1         sub_2         sub_3         sub_4         sub_5\n",
       "0  1.849861e+06  1.860583e+06  1.845055e+06  1.874074e+06  1.775689e+06\n",
       "1  2.663122e+06  2.756455e+06  2.823938e+06  2.682350e+06  2.476429e+06\n",
       "2  1.313474e+06  1.409003e+06  1.357749e+06  1.215429e+06  1.269715e+06\n",
       "3  2.612071e+06  2.841871e+06  2.700843e+06  2.730885e+06  2.712774e+06\n",
       "4  5.490663e+06  5.693784e+06  5.594006e+06  5.389972e+06  5.212935e+06\n",
       "5  2.072644e+06  2.108735e+06  2.131787e+06  2.197398e+06  2.132819e+06\n",
       "6  1.130101e+06  1.191317e+06  1.172653e+06  1.160804e+06  1.208791e+06\n",
       "7  7.069284e+05  7.479792e+05  7.580403e+05  7.713830e+05  7.389527e+05\n",
       "8  1.521839e+06  1.608971e+06  1.505706e+06  1.556859e+06  1.534490e+06\n",
       "9  1.424995e+06  1.497176e+06  1.490885e+06  1.482974e+06  1.436169e+06"
      ],
      "text/html": [
       "<div>\n",
       "<style scoped>\n",
       "    .dataframe tbody tr th:only-of-type {\n",
       "        vertical-align: middle;\n",
       "    }\n",
       "\n",
       "    .dataframe tbody tr th {\n",
       "        vertical-align: top;\n",
       "    }\n",
       "\n",
       "    .dataframe thead th {\n",
       "        text-align: right;\n",
       "    }\n",
       "</style>\n",
       "<table border=\"1\" class=\"dataframe\">\n",
       "  <thead>\n",
       "    <tr style=\"text-align: right;\">\n",
       "      <th></th>\n",
       "      <th>sub_1</th>\n",
       "      <th>sub_2</th>\n",
       "      <th>sub_3</th>\n",
       "      <th>sub_4</th>\n",
       "      <th>sub_5</th>\n",
       "    </tr>\n",
       "  </thead>\n",
       "  <tbody>\n",
       "    <tr>\n",
       "      <th>0</th>\n",
       "      <td>1.849861e+06</td>\n",
       "      <td>1.860583e+06</td>\n",
       "      <td>1.845055e+06</td>\n",
       "      <td>1.874074e+06</td>\n",
       "      <td>1.775689e+06</td>\n",
       "    </tr>\n",
       "    <tr>\n",
       "      <th>1</th>\n",
       "      <td>2.663122e+06</td>\n",
       "      <td>2.756455e+06</td>\n",
       "      <td>2.823938e+06</td>\n",
       "      <td>2.682350e+06</td>\n",
       "      <td>2.476429e+06</td>\n",
       "    </tr>\n",
       "    <tr>\n",
       "      <th>2</th>\n",
       "      <td>1.313474e+06</td>\n",
       "      <td>1.409003e+06</td>\n",
       "      <td>1.357749e+06</td>\n",
       "      <td>1.215429e+06</td>\n",
       "      <td>1.269715e+06</td>\n",
       "    </tr>\n",
       "    <tr>\n",
       "      <th>3</th>\n",
       "      <td>2.612071e+06</td>\n",
       "      <td>2.841871e+06</td>\n",
       "      <td>2.700843e+06</td>\n",
       "      <td>2.730885e+06</td>\n",
       "      <td>2.712774e+06</td>\n",
       "    </tr>\n",
       "    <tr>\n",
       "      <th>4</th>\n",
       "      <td>5.490663e+06</td>\n",
       "      <td>5.693784e+06</td>\n",
       "      <td>5.594006e+06</td>\n",
       "      <td>5.389972e+06</td>\n",
       "      <td>5.212935e+06</td>\n",
       "    </tr>\n",
       "    <tr>\n",
       "      <th>5</th>\n",
       "      <td>2.072644e+06</td>\n",
       "      <td>2.108735e+06</td>\n",
       "      <td>2.131787e+06</td>\n",
       "      <td>2.197398e+06</td>\n",
       "      <td>2.132819e+06</td>\n",
       "    </tr>\n",
       "    <tr>\n",
       "      <th>6</th>\n",
       "      <td>1.130101e+06</td>\n",
       "      <td>1.191317e+06</td>\n",
       "      <td>1.172653e+06</td>\n",
       "      <td>1.160804e+06</td>\n",
       "      <td>1.208791e+06</td>\n",
       "    </tr>\n",
       "    <tr>\n",
       "      <th>7</th>\n",
       "      <td>7.069284e+05</td>\n",
       "      <td>7.479792e+05</td>\n",
       "      <td>7.580403e+05</td>\n",
       "      <td>7.713830e+05</td>\n",
       "      <td>7.389527e+05</td>\n",
       "    </tr>\n",
       "    <tr>\n",
       "      <th>8</th>\n",
       "      <td>1.521839e+06</td>\n",
       "      <td>1.608971e+06</td>\n",
       "      <td>1.505706e+06</td>\n",
       "      <td>1.556859e+06</td>\n",
       "      <td>1.534490e+06</td>\n",
       "    </tr>\n",
       "    <tr>\n",
       "      <th>9</th>\n",
       "      <td>1.424995e+06</td>\n",
       "      <td>1.497176e+06</td>\n",
       "      <td>1.490885e+06</td>\n",
       "      <td>1.482974e+06</td>\n",
       "      <td>1.436169e+06</td>\n",
       "    </tr>\n",
       "  </tbody>\n",
       "</table>\n",
       "</div>"
      ]
     },
     "metadata": {},
     "execution_count": 80
    }
   ],
   "metadata": {}
  },
  {
   "cell_type": "code",
   "execution_count": 81,
   "source": [
    "submissions['blend_round'] = np.round(((submissions.sum(axis=1))/len(submissions.columns))/1000*0.925)*1000\n",
    "sample_submission['price'] = submissions['blend_round'].values\n",
    "sample_submission.to_csv(f'submission_blend_v{VERSION}_round.csv', index=False)\n",
    "sample_submission.head(10)"
   ],
   "outputs": [
    {
     "output_type": "execute_result",
     "data": {
      "text/plain": [
       "   id      price\n",
       "0   0  1703000.0\n",
       "1   1  2479000.0\n",
       "2   2  1215000.0\n",
       "3   3  2516000.0\n",
       "4   4  5066000.0\n",
       "5   5  1969000.0\n",
       "6   6  1085000.0\n",
       "7   7   689000.0\n",
       "8   8  1430000.0\n",
       "9   9  1356000.0"
      ],
      "text/html": [
       "<div>\n",
       "<style scoped>\n",
       "    .dataframe tbody tr th:only-of-type {\n",
       "        vertical-align: middle;\n",
       "    }\n",
       "\n",
       "    .dataframe tbody tr th {\n",
       "        vertical-align: top;\n",
       "    }\n",
       "\n",
       "    .dataframe thead th {\n",
       "        text-align: right;\n",
       "    }\n",
       "</style>\n",
       "<table border=\"1\" class=\"dataframe\">\n",
       "  <thead>\n",
       "    <tr style=\"text-align: right;\">\n",
       "      <th></th>\n",
       "      <th>id</th>\n",
       "      <th>price</th>\n",
       "    </tr>\n",
       "  </thead>\n",
       "  <tbody>\n",
       "    <tr>\n",
       "      <th>0</th>\n",
       "      <td>0</td>\n",
       "      <td>1703000.0</td>\n",
       "    </tr>\n",
       "    <tr>\n",
       "      <th>1</th>\n",
       "      <td>1</td>\n",
       "      <td>2479000.0</td>\n",
       "    </tr>\n",
       "    <tr>\n",
       "      <th>2</th>\n",
       "      <td>2</td>\n",
       "      <td>1215000.0</td>\n",
       "    </tr>\n",
       "    <tr>\n",
       "      <th>3</th>\n",
       "      <td>3</td>\n",
       "      <td>2516000.0</td>\n",
       "    </tr>\n",
       "    <tr>\n",
       "      <th>4</th>\n",
       "      <td>4</td>\n",
       "      <td>5066000.0</td>\n",
       "    </tr>\n",
       "    <tr>\n",
       "      <th>5</th>\n",
       "      <td>5</td>\n",
       "      <td>1969000.0</td>\n",
       "    </tr>\n",
       "    <tr>\n",
       "      <th>6</th>\n",
       "      <td>6</td>\n",
       "      <td>1085000.0</td>\n",
       "    </tr>\n",
       "    <tr>\n",
       "      <th>7</th>\n",
       "      <td>7</td>\n",
       "      <td>689000.0</td>\n",
       "    </tr>\n",
       "    <tr>\n",
       "      <th>8</th>\n",
       "      <td>8</td>\n",
       "      <td>1430000.0</td>\n",
       "    </tr>\n",
       "    <tr>\n",
       "      <th>9</th>\n",
       "      <td>9</td>\n",
       "      <td>1356000.0</td>\n",
       "    </tr>\n",
       "  </tbody>\n",
       "</table>\n",
       "</div>"
      ]
     },
     "metadata": {},
     "execution_count": 81
    }
   ],
   "metadata": {}
  },
  {
   "cell_type": "code",
   "execution_count": 36,
   "source": [
    "df.equipment"
   ],
   "outputs": [
    {
     "output_type": "execute_result",
     "data": {
      "text/plain": [
       "0       {'Прочее': ['Защита картера'], 'Салон': ['Тони...\n",
       "1                                                      {}\n",
       "2       {'Прочее': ['Защита картера'], 'Комфорт': ['Кр...\n",
       "3                                                      {}\n",
       "4                                                      {}\n",
       "                              ...                        \n",
       "7461                                                   {}\n",
       "7462    {'Комфорт': ['Круиз-контроль', 'Мультифункцион...\n",
       "7463    {'Комфорт': ['Круиз-контроль', 'Система «старт...\n",
       "7464    {'Комфорт': ['Круиз-контроль', 'Мультифункцион...\n",
       "7465    {'Комфорт': ['Круиз-контроль', 'Мультифункцион...\n",
       "Name: equipment, Length: 7466, dtype: object"
      ]
     },
     "metadata": {},
     "execution_count": 36
    }
   ],
   "metadata": {}
  },
  {
   "cell_type": "code",
   "execution_count": 63,
   "source": [
    "submissions['sub_2']\n",
    "sample_submission['price'] = np.round(((submissions['sub_2']/1000*0.925)))*1000\n",
    "sample_submission.to_csv(f'submission_blend_v{VERSION}_best_sub.csv', index=False)"
   ],
   "outputs": [],
   "metadata": {}
  },
  {
   "cell_type": "code",
   "execution_count": 62,
   "source": [
    "sample_submission['price'] "
   ],
   "outputs": [
    {
     "output_type": "execute_result",
     "data": {
      "text/plain": [
       "0       1727000.0\n",
       "1       2517000.0\n",
       "2       1286000.0\n",
       "3       2534000.0\n",
       "4       5237000.0\n",
       "          ...    \n",
       "3832    1028000.0\n",
       "3833    2459000.0\n",
       "3834     500000.0\n",
       "3835     986000.0\n",
       "3836    1141000.0\n",
       "Name: price, Length: 3837, dtype: float64"
      ]
     },
     "metadata": {},
     "execution_count": 62
    }
   ],
   "metadata": {}
  }
 ],
 "metadata": {
  "kernelspec": {
   "display_name": "Python 3",
   "language": "python",
   "name": "python3"
  },
  "language_info": {
   "codemirror_mode": {
    "name": "ipython",
    "version": 3
   },
   "file_extension": ".py",
   "mimetype": "text/x-python",
   "name": "python",
   "nbconvert_exporter": "python",
   "pygments_lexer": "ipython3",
   "version": "3.7.7"
  }
 },
 "nbformat": 4,
 "nbformat_minor": 4
}