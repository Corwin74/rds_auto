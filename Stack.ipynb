{
 "cells": [
  {
   "cell_type": "code",
   "execution_count": 5,
   "metadata": {},
   "outputs": [],
   "source": [
    "import pandas as pd\n",
    "import numpy as np\n",
    "import sys, os\n",
    "from sklearn.model_selection import train_test_split\n",
    "from sklearn.model_selection import KFold\n",
    "from tqdm.notebook import tqdm\n",
    "from catboost import CatBoostRegressor, CatBoostClassifier\n",
    "import re\n",
    "from sklearn.preprocessing import OneHotEncoder, LabelEncoder\n",
    "from sklearn.model_selection import cross_val_score, train_test_split\n",
    "from sklearn.ensemble import BaggingRegressor, RandomForestRegressor, ExtraTreesRegressor\n",
    "from sklearn.tree import DecisionTreeClassifier\n",
    "from sklearn.linear_model import LogisticRegression, LinearRegression\n",
    "from sklearn.preprocessing import StandardScaler\n",
    "from sklearn.base import clone"
   ]
  },
  {
   "cell_type": "code",
   "execution_count": 6,
   "metadata": {},
   "outputs": [],
   "source": [
    "VERSION    = 77\n",
    "VAL_SIZE   = 0.33   # 33%\n",
    "N_FOLDS    = 5\n",
    "RANDOM_SEED = 42\n",
    "\n",
    "# CATBOOST\n",
    "ITERATIONS = 2000\n",
    "LR         = 0.05"
   ]
  },
  {
   "cell_type": "code",
   "execution_count": 7,
   "metadata": {},
   "outputs": [],
   "source": [
    "# Заполняем количество владельцев в зависимости от пробега\n",
    "def fill_owners(row):   \n",
    "    if row['owners'] == np.NaN:\n",
    "        if row.mileage < 78500:\n",
    "            owners = 1\n",
    "        elif row.mileage < 133000:\n",
    "            owners = 2\n",
    "        else:\n",
    "            owners = 3\n",
    "        return owners\n",
    "    else:\n",
    "        return re.findall(r'\\d', row['owners'])[0]\n",
    "\n",
    "def fill_owners_test(row):\n",
    "    \n",
    "    if row['Владельцы'] == np.NaN:\n",
    "        if row.mileage < 78500:\n",
    "            owners = 1\n",
    "        elif row.mileage < 133000:\n",
    "            owners = 2\n",
    "        else:\n",
    "            owners = 3\n",
    "        return owners\n",
    "    else:\n",
    "        return re.findall(r'\\d', row['Владельцы'])[0]"
   ]
  },
  {
   "cell_type": "code",
   "execution_count": 8,
   "metadata": {},
   "outputs": [],
   "source": [
    "def preproc_number_only(X):\n",
    "    X_num = X.copy(deep=True)\n",
    "    le = LabelEncoder()\n",
    "    le.fit(X_num['model'])\n",
    "    X_num['model_code'] = le.transform(X_num['model'])\n",
    "    X_num.drop(['name'],axis = 1, inplace = True)\n",
    "    X_num = pd.get_dummies(X_num, columns=['bodyType', 'color', 'fuelType', 'vehicleTransmission', \n",
    "                               'drive', 'owners', 'pts', 'model'])\n",
    "    return X_num\n",
    "\n",
    "def preproc_test(df_t):\n",
    "    df = df_t.copy(deep=True)\n",
    "    df = df.drop('brand', axis=1)\n",
    "    df['name'] = df['name'].apply(lambda x: x.split(' ')[0])\n",
    "    df.drop(['vehicleConfiguration', 'description', 'Комплектация',\n",
    "              'Руль','Состояние', 'Таможня', 'Владение', 'id'], axis=1, inplace=True)\n",
    "    df['engineDisplacement'] = df.engineDisplacement.apply(\n",
    "        lambda x: 0 if x.split(' ')[0] == 'undefined' else int(float(x.split(' ')[0])*10))\n",
    "    df['mileage'] = df.mileage.apply(lambda x: int(x))\n",
    "    df['modelDate'] = df.modelDate.apply(lambda x: int(x))\n",
    "    df['numberOfDoors'] = df.numberOfDoors.apply(lambda x: int(x))\n",
    "    df['Привод'] = df['Привод'].apply(lambda x: x.lower())\n",
    "    df['Владельцы'] = df.apply(fill_owners_test, axis=1)\n",
    "    df['enginePower'] = df.enginePower.apply(lambda x: int(x.split(' ')[0]))\n",
    "    df['productionDate'] = df['productionDate'].apply(lambda x: int(x))\n",
    "    return df\n",
    "\n",
    "def preproc_data(df_d):\n",
    "    df = df_d.copy(deep=True)\n",
    "    df = df.drop('brand', axis=1)\n",
    "    df['name'] = df['name'].apply(lambda x: x.split(' ')[0])\n",
    "    df.drop(['vehicleConfiguration', 'description', 'equipment', 'name_full',\n",
    "              'wheel','state', 'customs', 'owningTime', 'Unnamed: 0'], axis=1, inplace=True)\n",
    "    df['engineDisplacement'] = df.engineDisplacement.apply(\n",
    "        lambda x: 0 if x.split(' ')[0] == 'undefined' else int(float(x.split(' ')[0])*10))\n",
    "    df['mileage'] = df.mileage.apply(lambda x: int(re.sub(r'[^\\d]', '', x)))\n",
    "    df['drive'] = df.drive.apply(lambda x: x.lower())\n",
    "    df['enginePower'] = df.enginePower.apply(lambda x: int(x.split(' ')[0]))\n",
    "    df['owners'] = df.apply(fill_owners, axis=1)\n",
    "    return df\n",
    "\n",
    "def preproc_test_feature_generation(dft):\n",
    "    df = dft.copy(deep=True)\n",
    "    df = df.drop('brand', axis=1)\n",
    "    df['name'] = df['name'].apply(lambda x: x.split(' ')[0])\n",
    "    df.drop(['vehicleConfiguration', 'description', 'Комплектация',\n",
    "              'Руль','Состояние', 'Таможня', 'Владение', 'id', \n",
    "             'color', 'mileage', 'ПТС', 'Владельцы'], axis=1, inplace=True)\n",
    "    df['engineDisplacement'] = df.engineDisplacement.apply(lambda x: x.split(' ')[0])\n",
    "    df['modelDate'] = df.modelDate.apply(lambda x: int(x))\n",
    "    df['numberOfDoors'] = df.numberOfDoors .apply(lambda x: int(x))\n",
    "    df['Привод'] = df['Привод'].apply(lambda x: x.lower())\n",
    "    df['enginePower'] = df.enginePower.apply(lambda x: int(x.split(' ')[0]))\n",
    "    df['productionDate'] = df['productionDate'].apply(lambda x: int(x))\n",
    "    temp = df.columns.to_list()\n",
    "    temp[-1] = 'drive'\n",
    "    df.columns=temp\n",
    "    return df"
   ]
  },
  {
   "cell_type": "code",
   "execution_count": 9,
   "metadata": {},
   "outputs": [],
   "source": [
    "cwd = os.getcwd()"
   ]
  },
  {
   "cell_type": "code",
   "execution_count": 10,
   "metadata": {},
   "outputs": [],
   "source": [
    "df = pd.read_csv(cwd + r'\\data\\auto_data_x.csv')\n",
    "df_test_file = pd.read_csv(cwd + r'\\data\\test.csv')\n",
    "from_file = CatBoostClassifier()\n",
    "from_file.load_model(cwd + r'\\data\\model_feature_generator')\n",
    "sample_submission = pd.read_csv(cwd + r'\\data\\sample_submission.csv')"
   ]
  },
  {
   "cell_type": "code",
   "execution_count": 11,
   "metadata": {},
   "outputs": [],
   "source": [
    "# Добавление признака в тестовую выборку путем предсказания на предварительно обученной модели\n",
    "X_sub = preproc_test(df_test_file)\n",
    "X = preproc_data(df)\n",
    "X_for_feature = preproc_test_feature_generation(df_test_file)\n",
    "model = from_file.predict(X_for_feature)\n",
    "X_sub['model'] = model"
   ]
  },
  {
   "cell_type": "code",
   "execution_count": 12,
   "metadata": {},
   "outputs": [],
   "source": [
    "X_sub.columns = ['bodyType','color','fuelType','modelDate','name','numberOfDoors',\n",
    "                 'productionDate','vehicleTransmission','engineDisplacement',\n",
    "                 'enginePower', 'mileage', 'drive', 'owners', 'pts', 'model']"
   ]
  },
  {
   "cell_type": "code",
   "execution_count": 13,
   "metadata": {},
   "outputs": [],
   "source": [
    "# Переводим год изготовления и год модели в возраст, улучшает результат\n",
    "\n",
    "#5 modelDate\n",
    "X['modelDate'] = 2020 - X.modelDate\n",
    "X_sub['modelDate'] = 2020 - X_sub.modelDate\n",
    "# 9 productionDate\n",
    "X['productionDate'] = 2020 - X.productionDate\n",
    "X_sub['productionDate'] = 2020 - X_sub.productionDate"
   ]
  },
  {
   "cell_type": "code",
   "execution_count": 14,
   "metadata": {},
   "outputs": [],
   "source": [
    "y = X.loc[:, 'price']\n",
    "X.drop('price', axis=1, inplace=True)"
   ]
  },
  {
   "cell_type": "code",
   "execution_count": 15,
   "metadata": {},
   "outputs": [],
   "source": [
    "X_num = preproc_number_only(X)\n",
    "X_num['fuelType_электро'] = 0\n",
    "X_sub_num = preproc_number_only(X_sub)"
   ]
  },
  {
   "cell_type": "code",
   "execution_count": null,
   "metadata": {},
   "outputs": [],
   "source": [
    "cat_features = ['bodyType', 'color', 'fuelType', 'name', 'vehicleTransmission', 'engineDisplacement', \n",
    "                'drive', 'pts', 'owners', 'model']"
   ]
  },
  {
   "cell_type": "markdown",
   "metadata": {},
   "source": [
    "# Stacking"
   ]
  },
  {
   "cell_type": "code",
   "execution_count": null,
   "metadata": {},
   "outputs": [],
   "source": [
    "def compute_meta_feature_cat(clf, X_train, X_test, y_train, cv):\n",
    "    \n",
    "    X_meta_train = np.zeros_like(y_train, dtype=np.float32)\n",
    "    for train_fold_index, predict_fold_index in cv.split(X_train):\n",
    "        X_fold_train, X_fold_predict = X_train.iloc[train_fold_index], X_train.iloc[predict_fold_index]\n",
    "        y_fold_train = y_train[train_fold_index]\n",
    "        folded_clf = clf.copy()\n",
    "        folded_clf.fit(X_fold_train, y_fold_train, cat_features=cat_features, verbose=False)\n",
    "        X_meta_train[predict_fold_index] = folded_clf.predict(X_fold_predict)\n",
    "\n",
    "    meta_clf = clf.copy()\n",
    "    meta_clf.fit(X_train, y_train, cat_features=cat_features, verbose=False)\n",
    "    X_meta_test = meta_clf.predict(X_test)\n",
    "\n",
    "    return X_meta_train, X_meta_test\n",
    "    \n",
    "def compute_meta_feature(clf, X_train_num, X_test_num, y_train, cv):\n",
    "        \n",
    "    X_meta_train = np.zeros_like(y_train, dtype=np.float32)\n",
    "    for train_fold_index, predict_fold_index in cv.split(X_train_num):\n",
    "        X_fold_train, X_fold_predict = X_train_num.iloc[train_fold_index], X_train_num.iloc[predict_fold_index]\n",
    "        y_fold_train = y_train[train_fold_index]\n",
    "        folded_clf = clone(clf)\n",
    "        folded_clf.fit(X_fold_train, y_fold_train)\n",
    "        X_meta_train[predict_fold_index] = folded_clf.predict(X_fold_predict)\n",
    "        \n",
    "    meta_clf = clone(clf)\n",
    "    meta_clf.fit(X_train_num, y_train)\n",
    "    X_meta_test = meta_clf.predict(X_test_num)\n",
    "    \n",
    "    return X_meta_train, X_meta_test\n",
    "\n",
    "def generate_meta_features(classifiers, X_train, X_test, y_train, cv):\n",
    "   \n",
    "    \n",
    "    features = [\n",
    "        compute_meta_feature(clf, X_train_num, X_test_num, y_train, cv)\n",
    "        for clf in tqdm(classifiers)\n",
    "    ]\n",
    "    features.append(compute_meta_feature_cat(cb, X_train, X_test, y_train, cv))\n",
    "    \n",
    "    stacked_features_train = np.vstack([\n",
    "        features_train for features_train, features_test in features\n",
    "    ]).T\n",
    "\n",
    "    stacked_features_test = np.vstack([\n",
    "        features_test for features_train, features_test in features\n",
    "    ]).T\n",
    "    \n",
    "    return stacked_features_train, stacked_features_test"
   ]
  },
  {
   "cell_type": "code",
   "execution_count": null,
   "metadata": {},
   "outputs": [],
   "source": [
    "cb = CatBoostRegressor(iterations = ITERATIONS,\n",
    "                              learning_rate = LR,\n",
    "                              eval_metric='MAPE',\n",
    "                              random_seed = RANDOM_SEED)\n",
    "rfr = RandomForestRegressor(n_estimators=50, criterion='mae',\n",
    "                           random_state=RANDOM_SEED)\n",
    "br = BaggingRegressor(ExtraTreesRegressor(n_estimators=100, \n",
    "                                          random_state=RANDOM_SEED))\n",
    "                                          \n",
    "clf_list = [rfr, br]"
   ]
  },
  {
   "cell_type": "code",
   "execution_count": null,
   "metadata": {},
   "outputs": [],
   "source": [
    "cv = KFold(n_splits=5, shuffle=True, random_state=42)"
   ]
  },
  {
   "cell_type": "code",
   "execution_count": null,
   "metadata": {},
   "outputs": [],
   "source": [
    "features = []\n",
    "for clf in tqdm(clf_list):\n",
    "    features.append(compute_meta_feature(clf, X_num, X_sub_num, y.values, cv))\n",
    "features.append(compute_meta_feature_cat(cb, X, X_sub, y.values, cv))"
   ]
  },
  {
   "cell_type": "code",
   "execution_count": null,
   "metadata": {},
   "outputs": [],
   "source": [
    "stacked_features_train = np.stack(\n",
    "    [features_train for features_train, features_test in features],axis=-1)\n",
    "\n",
    "stacked_features_test = np.stack(\n",
    "    [features_test for features_train, features_test in features],axis=-1)"
   ]
  },
  {
   "cell_type": "code",
   "execution_count": null,
   "metadata": {},
   "outputs": [],
   "source": [
    "final_model = LinearRegression()\n",
    "final_model.fit(stacked_features_train, y)\n",
    "sample_submission['price'] = np.floor((final_model.predict(stacked_features_test)) / 10000) * 10000 \n",
    "sample_submission.to_csv(f'submission_stack_v{VERSION}_BMW.csv', index=False)\n",
    "sample_submission.head(10)"
   ]
  },
  {
   "cell_type": "code",
   "execution_count": null,
   "metadata": {},
   "outputs": [],
   "source": [
    "Стекингом не удалось улучшить результат одиночного CatBoost.\n",
    "На подбор параметров не хватило времени."
   ]
  }
 ],
 "metadata": {
  "kernelspec": {
   "display_name": "Python 3",
   "language": "python",
   "name": "python3"
  },
  "language_info": {
   "codemirror_mode": {
    "name": "ipython",
    "version": 3
   },
   "file_extension": ".py",
   "mimetype": "text/x-python",
   "name": "python",
   "nbconvert_exporter": "python",
   "pygments_lexer": "ipython3",
   "version": "3.7.7"
  }
 },
 "nbformat": 4,
 "nbformat_minor": 4
}
