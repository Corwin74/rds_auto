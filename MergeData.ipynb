{
 "cells": [
  {
   "cell_type": "code",
   "execution_count": 6,
   "metadata": {},
   "outputs": [],
   "source": [
    "import pandas as pd"
   ]
  },
  {
   "cell_type": "code",
   "execution_count": 7,
   "metadata": {},
   "outputs": [],
   "source": [
    "df1 = pd.read_csv(r'C:\\Users\\Alex\\PycharmProjects\\untitled\\data\\1er_data.csv')\n",
    "df1['model'] = '1'"
   ]
  },
  {
   "cell_type": "code",
   "execution_count": 8,
   "metadata": {},
   "outputs": [],
   "source": [
    "df2 =  pd.read_csv(r'C:\\Users\\Alex\\PycharmProjects\\untitled\\data\\3er_data.csv')\n",
    "df2['model'] = '3'"
   ]
  },
  {
   "cell_type": "code",
   "execution_count": 9,
   "metadata": {},
   "outputs": [],
   "source": [
    "df3 =  pd.read_csv(r'C:\\Users\\Alex\\PycharmProjects\\untitled\\data\\5er_data.csv')\n",
    "df3['model'] = '5'"
   ]
  },
  {
   "cell_type": "code",
   "execution_count": 10,
   "metadata": {},
   "outputs": [],
   "source": [
    "df4 = pd.read_csv(r'C:\\Users\\Alex\\PycharmProjects\\untitled\\data\\6er_data.csv')\n",
    "df4['model'] = '6'"
   ]
  },
  {
   "cell_type": "code",
   "execution_count": 11,
   "metadata": {},
   "outputs": [],
   "source": [
    "df5 = pd.read_csv(r'C:\\Users\\Alex\\PycharmProjects\\untitled\\data\\7er_data.csv')\n",
    "df5['model'] = '7'"
   ]
  },
  {
   "cell_type": "code",
   "execution_count": 12,
   "metadata": {},
   "outputs": [],
   "source": [
    "df6 = pd.read_csv(r'C:\\Users\\Alex\\PycharmProjects\\untitled\\data\\x1_data.csv')\n",
    "df6['model'] = 'x1'"
   ]
  },
  {
   "cell_type": "code",
   "execution_count": 13,
   "metadata": {},
   "outputs": [],
   "source": [
    "df7 = pd.read_csv(r'C:\\Users\\Alex\\PycharmProjects\\untitled\\data\\x3_data.csv')\n",
    "df7['model'] = 'x3'"
   ]
  },
  {
   "cell_type": "code",
   "execution_count": 14,
   "metadata": {},
   "outputs": [],
   "source": [
    "df8 = pd.read_csv(r'C:\\Users\\Alex\\PycharmProjects\\untitled\\data\\x4_data.csv')\n",
    "df8['model'] = 'x4'"
   ]
  },
  {
   "cell_type": "code",
   "execution_count": 15,
   "metadata": {},
   "outputs": [],
   "source": [
    "df9 = pd.read_csv(r'C:\\Users\\Alex\\PycharmProjects\\untitled\\data\\x5_data.csv')\n",
    "df9['model'] = 'x5'"
   ]
  },
  {
   "cell_type": "code",
   "execution_count": 16,
   "metadata": {},
   "outputs": [],
   "source": [
    "df10 = pd.read_csv(r'C:\\Users\\Alex\\PycharmProjects\\untitled\\data\\x6_data.csv')\n",
    "df10['model'] = 'x6'"
   ]
  },
  {
   "cell_type": "code",
   "execution_count": 17,
   "metadata": {},
   "outputs": [],
   "source": [
    "df11 = pd.read_csv(r'C:\\Users\\Alex\\PycharmProjects\\untitled\\data\\x7_data.csv')\n",
    "df11['model'] = 'x7'"
   ]
  },
  {
   "cell_type": "code",
   "execution_count": 18,
   "metadata": {},
   "outputs": [],
   "source": [
    "df = df1.append(df2, ignore_index=True)"
   ]
  },
  {
   "cell_type": "code",
   "execution_count": 27,
   "metadata": {},
   "outputs": [],
   "source": [
    "df = df.append(df11, ignore_index=True)"
   ]
  },
  {
   "cell_type": "code",
   "execution_count": 29,
   "metadata": {},
   "outputs": [],
   "source": [
    "df.to_csv(r'C:\\Users\\Alex\\PycharmProjects\\untitled\\data\\auto_data_x.csv')"
   ]
  }
 ],
 "metadata": {
  "kernelspec": {
   "display_name": "Python 3",
   "language": "python",
   "name": "python3"
  },
  "language_info": {
   "codemirror_mode": {
    "name": "ipython",
    "version": 3
   },
   "file_extension": ".py",
   "mimetype": "text/x-python",
   "name": "python",
   "nbconvert_exporter": "python",
   "pygments_lexer": "ipython3",
   "version": "3.7.7"
  }
 },
 "nbformat": 4,
 "nbformat_minor": 4
}
